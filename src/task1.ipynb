{
 "cells": [
  {
   "cell_type": "code",
   "execution_count": 1,
   "metadata": {},
   "outputs": [],
   "source": [
    "%matplotlib notebook\n",
    "import numpy as np\n",
    "import scipy as sp\n",
    "import matplotlib.pyplot as plt\n",
    "from disp_one import *\n",
    "from load_my_data_set import *"
   ]
  },
  {
   "cell_type": "code",
   "execution_count": 2,
   "metadata": {},
   "outputs": [],
   "source": [
    "# Import data\n",
    "Xtrn, Ytrn, Xtst, Ytst = load_my_data_set('../data')"
   ]
  },
  {
   "cell_type": "code",
   "execution_count": 3,
   "metadata": {},
   "outputs": [],
   "source": [
    "# Normalise\n",
    "Xtrn = Xtrn / 255.0\n",
    "Xtst = Xtst / 255.0"
   ]
  },
  {
   "cell_type": "code",
   "execution_count": 4,
   "metadata": {},
   "outputs": [],
   "source": [
    "def task1_1(X, Y):\n",
    "    \"\"\"Write a Matlab function that displays the images of the first ten samples for each class\n",
    "    using montage() function, so that each figure shows the ten samples for class Ck, where\n",
    "    k = 1, . . . , 10.\n",
    "    Inputs:\n",
    "    X: M-by-D data matrix (of doubles) where M is the number of samples, and D is the the number of \n",
    "    elements in a sample. Note that each sample is represented as a row vector rather than a column vector.\n",
    "    Y : M-by-1 label vector (uint8) for X. Y(i) is the class number of X(i,:).\"\"\"\n",
    "    \n",
    "    for i in range(10):\n",
    "        disp_one(X[:10,:])"
   ]
  },
  {
   "cell_type": "code",
   "execution_count": 12,
   "metadata": {},
   "outputs": [],
   "source": [
    "X = Xtrn[:10]\n",
    "Y = Ytrn"
   ]
  },
  {
   "cell_type": "code",
   "execution_count": null,
   "metadata": {},
   "outputs": [],
   "source": [
    "disp_one(X, Y)"
   ]
  },
  {
   "cell_type": "code",
   "execution_count": null,
   "metadata": {},
   "outputs": [],
   "source": []
  }
 ],
 "metadata": {
  "kernelspec": {
   "display_name": "Python 2",
   "language": "python",
   "name": "python2"
  },
  "language_info": {
   "codemirror_mode": {
    "name": "ipython",
    "version": 2
   },
   "file_extension": ".py",
   "mimetype": "text/x-python",
   "name": "python",
   "nbconvert_exporter": "python",
   "pygments_lexer": "ipython2",
   "version": "2.7.15+"
  }
 },
 "nbformat": 4,
 "nbformat_minor": 2
}
