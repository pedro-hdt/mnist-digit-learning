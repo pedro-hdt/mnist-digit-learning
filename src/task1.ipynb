{
 "cells": [
  {
   "cell_type": "code",
   "execution_count": 2,
   "metadata": {},
   "outputs": [],
   "source": [
    "%matplotlib notebook\n",
    "import numpy as np\n",
    "import scipy as sp\n",
    "import matplotlib.pyplot as plt\n",
    "from disp_one import *\n",
    "from load_my_data_set import *"
   ]
  },
  {
   "cell_type": "code",
   "execution_count": 3,
   "metadata": {},
   "outputs": [],
   "source": [
    "# Import data\n",
    "Xtrn, Ytrn, Xtst, Ytst = load_my_data_set('../data')"
   ]
  },
  {
   "cell_type": "code",
   "execution_count": 4,
   "metadata": {},
   "outputs": [],
   "source": [
    "# Normalise\n",
    "Xtrn = Xtrn / 255.0\n",
    "Xtst = Xtst / 255.0"
   ]
  },
  {
   "cell_type": "code",
   "execution_count": 15,
   "metadata": {},
   "outputs": [
    {
     "data": {
      "text/plain": [
       "array([[0, 1, 2, 3, 4],\n",
       "       [5, 6, 7, 8, 9]])"
      ]
     },
     "execution_count": 15,
     "metadata": {},
     "output_type": "execute_result"
    }
   ],
   "source": [
    "X = np.arange(10).reshape((2,5))\n",
    "X"
   ]
  },
  {
   "cell_type": "code",
   "execution_count": 16,
   "metadata": {},
   "outputs": [
    {
     "data": {
      "text/plain": [
       "array([[ 0,  1,  3,  6, 10],\n",
       "       [ 5, 11, 18, 26, 35]])"
      ]
     },
     "execution_count": 16,
     "metadata": {},
     "output_type": "execute_result"
    }
   ],
   "source": [
    "np.cumsum(X, axis=1)"
   ]
  },
  {
   "cell_type": "code",
   "execution_count": 17,
   "metadata": {},
   "outputs": [
    {
     "data": {
      "text/plain": [
       "array([[ 0,  1,  2,  3,  4],\n",
       "       [ 5,  7,  9, 11, 13]])"
      ]
     },
     "execution_count": 17,
     "metadata": {},
     "output_type": "execute_result"
    }
   ],
   "source": [
    "np.cumsum(X, axis=0)"
   ]
  },
  {
   "cell_type": "code",
   "execution_count": 59,
   "metadata": {},
   "outputs": [],
   "source": [
    "def comp_pca(X):\n",
    "    # Input:\n",
    "    # X: N * D matrix (double)\n",
    "    # Output:\n",
    "    # Evecs: D-by-D matrix (double) contains all eigenvectors as columns\n",
    "    # NB: follow the Task 1.3 specifications on eigenvectors.\n",
    "    # EVals: Eigenvalues in descending order, D x 1 vector\n",
    "    # (Note that the i-th columns of Evecs should corresponds to the i-th element in EVals)\n",
    "\n",
    "    N = len(X)\n",
    "\n",
    "    # Mean shift the original matrix\n",
    "    X_shift = X - X.mean(axis=0)\n",
    "\n",
    "    # Covariance matrix\n",
    "    # note we use 1.0, otherwise it gets cast to int and results in all 0s\n",
    "    covar_m = 1.0 / (N - 1) * np.dot(X_shift.T, X_shift)\n",
    "\n",
    "    # find the eigenvectors and eigenvalues\n",
    "    # EVecs will be the principal components\n",
    "    EVals, EVecs = la.eig(covar_m)\n",
    "\n",
    "    # The first element of each eigenvector must be non-negative\n",
    "    for i in range(len(EVecs[0])):\n",
    "        if EVecs[0, i] < 0:\n",
    "            print 'negating'\n",
    "            EVecs[:, i] *= -1\n",
    "\n",
    "    # Order eigenvalues\n",
    "    idx = EVals[::-1].argsort()\n",
    "    EVals = EVals[idx]\n",
    "\n",
    "    # Order eigenvectors by the same order\n",
    "    EVecs = EVecs[:, idx]\n",
    "\n",
    "    return EVecs.astype('float64'), EVals.astype('float64')\n"
   ]
  },
  {
   "cell_type": "code",
   "execution_count": 60,
   "metadata": {},
   "outputs": [
    {
     "name": "stdout",
     "output_type": "stream",
     "text": [
      "negating\n",
      "negating\n"
     ]
    },
    {
     "name": "stderr",
     "output_type": "stream",
     "text": [
      "/home/pedro-teixeira/2b/mnist-digit-learning/dice/lib/python2.7/site-packages/ipykernel_launcher.py:36: ComplexWarning: Casting complex values to real discards the imaginary part\n"
     ]
    }
   ],
   "source": [
    "evecs, evals = comp_pca(X)"
   ]
  },
  {
   "cell_type": "code",
   "execution_count": 61,
   "metadata": {},
   "outputs": [
    {
     "data": {
      "text/plain": [
       "array([2.56494588e-02, 8.94427191e-01, 4.47213595e-01, 2.17431612e-17,\n",
       "       2.17431612e-17])"
      ]
     },
     "execution_count": 61,
     "metadata": {},
     "output_type": "execute_result"
    }
   ],
   "source": [
    "evecs[0]"
   ]
  },
  {
   "cell_type": "code",
   "execution_count": null,
   "metadata": {},
   "outputs": [],
   "source": []
  }
 ],
 "metadata": {
  "kernelspec": {
   "display_name": "Python 2",
   "language": "python",
   "name": "python2"
  },
  "language_info": {
   "codemirror_mode": {
    "name": "ipython",
    "version": 2
   },
   "file_extension": ".py",
   "mimetype": "text/x-python",
   "name": "python",
   "nbconvert_exporter": "python",
   "pygments_lexer": "ipython2",
   "version": "2.7.15+"
  }
 },
 "nbformat": 4,
 "nbformat_minor": 2
}
